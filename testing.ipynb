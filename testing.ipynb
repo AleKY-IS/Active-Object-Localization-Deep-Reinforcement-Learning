{
 "metadata": {
  "language_info": {
   "codemirror_mode": {
    "name": "ipython",
    "version": 3
   },
   "file_extension": ".py",
   "mimetype": "text/x-python",
   "name": "python",
   "nbconvert_exporter": "python",
   "pygments_lexer": "ipython3",
   "version": "3.8.7-final"
  },
  "orig_nbformat": 2,
  "kernelspec": {
   "name": "python3",
   "display_name": "Python 3.8.7 64-bit",
   "metadata": {
    "interpreter": {
     "hash": "f71d188589fa6c8d31fecd7a0393a1752396fa7e40fa8670a86f2731027bd0ac"
    }
   }
  }
 },
 "nbformat": 4,
 "nbformat_minor": 2,
 "cells": [
  {
   "cell_type": "code",
   "execution_count": 1,
   "metadata": {},
   "outputs": [],
   "source": [
    "# -*- coding: utf-8 -*-\n",
    "from IPython.display import clear_output\n",
    "from utils.agent import *\n",
    "from utils.dataset import *\n",
    "from utils.models import *\n",
    "\n",
    "\n",
    "import math\n",
    "import random\n",
    "import numpy as np\n",
    "import matplotlib\n",
    "import matplotlib.pyplot as plt\n",
    "from collections import namedtuple\n",
    "from itertools import count\n",
    "from PIL import Image\n",
    "import torch.optim as optim\n",
    "import cv2 as cv\n",
    "import sys\n",
    "from torch.autograd import Variable\n",
    "import traceback\n",
    "import sys\n",
    "import os\n",
    "import matplotlib.pyplot as plt\n",
    "import matplotlib.patches as patches\n",
    "\n",
    "#!pip3 install torch==1.5.1 torchvision==0.6.1 -f https://download.pytorch.org/whl/cu92/torch_stable.html\n",
    "\n",
    "batch_size = 32\n",
    "PATH=\"./datasets/\"\n",
    "\n",
    "\n",
    "\n",
    "train_loader2012, val_loader2012 = read_voc_dataset(download=False, year='2012')\n",
    "train_loader2007, val_loader2007 = read_voc_dataset(download=False, year='2007')\n",
    "\n",
    "\n",
    "classes = ['cat', 'bird', 'motorbike', 'diningtable', 'train', 'tvmonitor', 'bus', 'horse', 'car', 'pottedplant', 'person', 'chair', 'boat', 'bottle', 'bicycle', 'dog', 'aeroplane', 'cow', 'sheep', 'sofa']\n",
    "\n"
   ]
  },
  {
   "cell_type": "code",
   "execution_count": 2,
   "metadata": {},
   "outputs": [
    {
     "output_type": "stream",
     "name": "stdout",
     "text": [
      "Predicting boxes...\n"
     ]
    },
    {
     "output_type": "display_data",
     "data": {
      "text/plain": "  0%|          | 0/881 [00:00<?, ?it/s]",
      "application/vnd.jupyter.widget-view+json": {
       "version_major": 2,
       "version_minor": 0,
       "model_id": "63530ba83ef748ba88614b605ead2c8f"
      }
     },
     "metadata": {}
    },
    {
     "output_type": "stream",
     "name": "stdout",
     "text": [
      "Computing recall and ap...\nFinal result : \n              0.1        0.2        0.3        0.4        0.5\nap      78.591848  68.050095  55.383230  40.710506  24.316692\nrecall  88.195233  82.292849  73.893303  63.223610  49.035187\n"
     ]
    }
   ],
   "source": [
    "agents_per_class = {}\n",
    "datasets_per_class = sort_class_extract([val_loader2007, val_loader2012])\n",
    "classe = 'dog'\n",
    "index = random.choice(list(datasets_per_class[classe].keys()))\n",
    "agent = Agent(classe, alpha=0.2, num_episodes=25, load=True)\n",
    "agent.evaluate(datasets_per_class[classe])"
   ]
  },
  {
   "cell_type": "code",
   "execution_count": null,
   "metadata": {},
   "outputs": [],
   "source": []
  }
 ]
}